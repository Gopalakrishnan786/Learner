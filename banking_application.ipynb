{
 "cells": [
  {
   "cell_type": "code",
   "execution_count": 18,
   "id": "5e6bd9d0-f8fb-4aaf-b432-710b212d8628",
   "metadata": {},
   "outputs": [
    {
     "name": "stdout",
     "output_type": "stream",
     "text": [
      "Hello Mr. Dinesh\n",
      "You have successfully created a account with our HDFC Bank\n",
      "Your balance available is now 1000\n"
     ]
    }
   ],
   "source": [
    "class Bank:\n",
    "    total_bal = 0 # Class Variable\n",
    "    cust_list = [] # Class Variable\n",
    "\n",
    "    def __init__(self, name, acc_num, ini_bal = 1000):\n",
    "        self.name = name\n",
    "        self.acc_num = acc_num\n",
    "        self.ini_bal = ini_bal\n",
    "\n",
    "class Saving(Bank):\n",
    "\n",
    "    def __init__(self, name, acc_num, pan_num, balance = 0, ini_bal = 1000):\n",
    "\n",
    "        super().__init__(name, acc_num, ini_bal = 1000)\n",
    "        self.pan_num = pan_num\n",
    "        print(f\"Hello Mr. {self.name}\")\n",
    "        print(f\"You have successfully created a account with our HDFC Bank\")\n",
    "        self.balance = balance\n",
    "        self.balance += ini_bal\n",
    "        print(f\"Your balance available is now {self.balance}\")\n",
    "        Bank.total_bal += self.balance\n",
    "        Bank.cust_list.append(self.name)\n",
    "\n",
    "    def deposit(self, money):\n",
    "        self.balance += money\n",
    "        Bank.total_bal += money\n",
    "        print(f\"Hello Mr. {self.name} you have deposited {money} in your AC\")\n",
    "        print(f\"Your available balance is {self.balance}\")\n",
    "\n",
    "    def withdraw(self, money):\n",
    "        self.balance -= money\n",
    "        Bank.total_bal -= money\n",
    "        print(f\"Hello Mr. {self.name} you have withdrawn {money} from your AC\")\n",
    "\n",
    "    def __del__(self):\n",
    "        print(\"Closing your account in few seconds....\")\n",
    "        \n",
    "        \n",
    "\n",
    "customer1 = Saving(\"Dinesh\",1234,\"BWJPR7895\")\n",
    "\n",
    "\n",
    "\n",
    "    \n",
    "    "
   ]
  }
 ],
 "metadata": {
  "kernelspec": {
   "display_name": "Python 3 (ipykernel)",
   "language": "python",
   "name": "python3"
  },
  "language_info": {
   "codemirror_mode": {
    "name": "ipython",
    "version": 3
   },
   "file_extension": ".py",
   "mimetype": "text/x-python",
   "name": "python",
   "nbconvert_exporter": "python",
   "pygments_lexer": "ipython3",
   "version": "3.12.7"
  }
 },
 "nbformat": 4,
 "nbformat_minor": 5
}
